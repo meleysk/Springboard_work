version https://git-lfs.github.com/spec/v1
oid sha256:f5d06349381c64766759827921aea50426e6689e5f6fa46f718177d59bd4d9ac
size 323980
